{
 "cells": [
  {
   "cell_type": "code",
   "execution_count": 1,
   "id": "eb8d6676",
   "metadata": {},
   "outputs": [],
   "source": [
    "import os\n",
    "\n",
    "os.mkdir(\"DatasetModifiedTags\") #create the new directory for our modified files\n",
    "\n",
    "for filename in os.listdir(r\"NICT_JLE_4.1\\LearnerOriginal\"): #for each filename in list of files \n",
    "   with open(os.path.join(r\"NICT_JLE_4.1\\LearnerOriginal\", filename), 'r') as f: #open the files\n",
    "\n",
    "\n",
    "\n",
    "        fout = open(os.path.join(r\"DatasetModifiedTags\",filename), \"wt\") #open the new blank files \n",
    "        for line in f :\n",
    "\n",
    "            #write inside the new files, everything inside the old files is copied but the tags are modified\n",
    "            #since special characters like \"?\" and .\" are not allowed in xml tags\n",
    "            fout.write(line.replace('</??>', '</QQ>').replace('<??>', '<QQ>').replace('</?>', '</Q>').replace('<?>', '<Q>').replace('</SC?>', '</SCQ>').replace('<SC?>','<SCQ>').replace('</R?>', '</RQ>').replace('</..>', '</dd>').replace('</.>', '</d>').replace('<R?>', '<RQ>').replace('<..>', '<dd>').replace('<.>', '<d>'))\n",
    "\n",
    "\n",
    "\n",
    "        fout.close()\n",
    "        f.close()"
   ]
  }
 ],
 "metadata": {
  "kernelspec": {
   "display_name": "Python 3",
   "language": "python",
   "name": "python3"
  },
  "language_info": {
   "codemirror_mode": {
    "name": "ipython",
    "version": 3
   },
   "file_extension": ".py",
   "mimetype": "text/x-python",
   "name": "python",
   "nbconvert_exporter": "python",
   "pygments_lexer": "ipython3",
   "version": "3.9.0"
  }
 },
 "nbformat": 4,
 "nbformat_minor": 5
}
